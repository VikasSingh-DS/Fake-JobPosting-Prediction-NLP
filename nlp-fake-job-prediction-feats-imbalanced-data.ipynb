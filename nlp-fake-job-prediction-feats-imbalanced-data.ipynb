
  {
   "cell_type": "markdown",
   "metadata": {},
   "source": [
    "## Text cleaning"
   ]
  },
  {
   "cell_type": "code",
   "execution_count": 15,
   "metadata": {},
   "outputs": [
    {
     "name": "stdout",
     "output_type": "stream",
     "text": [
      "CPU times: user 21.7 s, sys: 53 ms, total: 21.8 s\n",
      "Wall time: 21.8 s\n"
     ]
    },
    {
     "data": {
      "text/plain": [
       "0    marketing internwere  and weve created a groun...\n",
       "1    customer service  cloud video  seconds the wor...\n",
       "2    commissioning machinery assistant cmavalor ser...\n",
       "dtype: object"
      ]
     },
     "execution_count": 15,
     "metadata": {},
     "output_type": "execute_result"
    }
   ],
   "source": [
    "%%time\n",
    "def clean_text(text):\n",
    "    '''Make text lowercase, remove text in square brackets,remove links,remove punctuation\n",
    "    and remove words containing numbers.'''\n",
    "    text = text.lower()\n",
    "    text = re.sub('\\[.*?\\]', '', text)\n",
    "    text = re.sub('https?://\\S+|www\\.\\S+', '', text)\n",
    "    text = re.sub('<.*?>+', '', text)\n",
    "    text = re.sub('[%s]' % re.escape(string.punctuation), '', text)\n",
    "    text = re.sub('\\n', '', text)\n",
    "    text = re.sub('\\w*\\d\\w*', '', text)\n",
    "    return text\n",
    "\n",
    "\n",
    "# Applying the cleaning function to both test and training datasets\n",
    "text = text.apply(lambda x: clean_text(x))\n",
    "text.head(3)"
   ]
  },
  {
   "cell_type": "markdown",
   "metadata": {},
   "source": [
    "## Tokenizer"
   ]
  },
  {
   "cell_type": "code",
   "execution_count": 16,
   "metadata": {},
   "outputs": [
    {
     "name": "stdout",
     "output_type": "stream",
     "text": [
      "CPU times: user 3.19 s, sys: 280 ms, total: 3.47 s\n",
      "Wall time: 3.47 s\n"
     ]
    },
    {
     "data": {
      "text/plain": [
       "0    [marketing, internwere, and, weve, created, a,...\n",
       "1    [customer, service, cloud, video, seconds, the...\n",
       "2    [commissioning, machinery, assistant, cmavalor...\n",
       "dtype: object"
      ]
     },
     "execution_count": 16,
     "metadata": {},
     "output_type": "execute_result"
    }
   ],
   "source": [
    "%%time\n",
    "tokenizer = nltk.tokenize.RegexpTokenizer(r'\\w+')\n",
    "\n",
    "# appling tokenizer5\n",
    "text = text.apply(lambda x: tokenizer.tokenize(x))\n",
    "text.head(3)"
   ]
  },
  {
   "cell_type": "code",
   "execution_count": 17,
   "metadata": {},
   "outputs": [
    {
     "name": "stdout",
     "output_type": "stream",
     "text": [
      "CPU times: user 16min 59s, sys: 1min 36s, total: 18min 35s\n",
      "Wall time: 18min 35s\n"
     ]
    }
   ],
   "source": [
    "%%time\n",
    "def remove_stopwords(text):\n",
    "    \"\"\"\n",
    "    Removing stopwords belonging to english language\n",
    "    \n",
    "    \"\"\"\n",
    "    words = [w for w in text if w not in stopwords.words('english')]\n",
    "    return words\n",
    "\n",
    "\n",
    "text = text.apply(lambda x : remove_stopwords(x))"
   ]
  },
  {
   "cell_type": "code",
   "execution_count": 18,
   "metadata": {},
   "outputs": [
    {
     "name": "stdout",
     "output_type": "stream",
     "text": [
      "CPU times: user 276 ms, sys: 22.9 ms, total: 299 ms\n",
      "Wall time: 298 ms\n"
     ]
    }
   ],
   "source": [
    "%%time\n",
    "def combine_text(list_of_text):\n",
    "    combined_text = ' '.join(list_of_text)\n",
    "    return combined_text\n",
    "\n",
    "text = text.apply(lambda x : combine_text(x))"
   ]
  },
  {
   "cell_type": "markdown",
   "metadata": {},
   "source": [
    "# Baseline Model"
   ]
  },
  {
   "cell_type": "code",
   "execution_count": 19,
   "metadata": {},
   "outputs": [
    {
     "name": "stdout",
     "output_type": "stream",
     "text": [
      "Fold 1\n",
      "0 AUC: 0.8605370303999023\n",
      "Fold 2\n",
      "1 AUC: 0.8346723988863957\n",
      "Fold 3\n",
      "2 AUC: 0.8454984466273384\n",
      "Fold 4\n",
      "3 AUC: 0.8600962428594967\n",
      "Fold 5\n",
      "4 AUC: 0.8318636096413873\n",
      "AUC mean score = 0.846534\n",
      "AUC std score = 0.012141\n"
     ]
    }
   ],
   "source": [
    "# Stratified k-fold cross-validation with an imbalanced dataset\n",
    "kfold = StratifiedKFold(n_splits=5, shuffle=True, random_state=1)\n",
    "auc_buf = []   \n",
    "cnt = 0\n",
    "# enumerate the splits and summarize the distributions\n",
    "for train_ix, test_ix in kfold.split(text, target):\n",
    "    print('Fold {}'.format(cnt + 1))\n",
    "    train_X, test_X = text[train_ix], text[test_ix]\n",
    "    train_y, test_y = target[train_ix], target[test_ix]\n",
    "\n",
    "    # Appling Count Vectorizer\n",
    "    count_vectorizer = CountVectorizer()\n",
    "    train_X_vec = count_vectorizer.fit_transform(train_X)\n",
    "    test_X_vec = count_vectorizer.transform(test_X)\n",
    "    \n",
    "    clf = LogisticRegression(C=0.1, solver='lbfgs', max_iter = 1000)\n",
    "    clf.fit(train_X_vec, train_y)\n",
    "    preds = clf.predict(test_X_vec)\n",
    "    \n",
    "    auc = roc_auc_score(test_y, preds)\n",
    "    print('{} AUC: {}'.format(cnt, auc))\n",
    "    auc_buf.append(auc)\n",
    "\n",
    "    cnt += 1\n",
    "\n",
    "print('AUC mean score = {:.6f}'.format(np.mean(auc_buf)))\n",
    "print('AUC std score = {:.6f}'.format(np.std(auc_buf)))"
   ]
  },
  {
   "cell_type": "markdown",
   "metadata": {},
   "source": [
    "It seem simple Logistic Regression model perform well. **AUC of 0.84** demonstrating the good fitting of chosen model. \n",
    "\n",
    "## References\n",
    "1. https://www.kaggle.com/vikassingh1996/different-approaches-to-nlp-problems\n",
    "2. https://www.kaggle.com/shahules/basic-eda-cleaning-and-glove\n"
   ]
  },
  {
   "cell_type": "markdown",
   "metadata": {},
   "source": [
    "## <font color=\"red\">Give me your feedback and if you find my kernel helpful please UPVOTE will be appreciated.</font>"
   ]
  }
 ],
 "metadata": {
  "kernelspec": {
   "display_name": "Python 3",
   "language": "python",
   "name": "python3"
  },
  "language_info": {
   "codemirror_mode": {
    "name": "ipython",
    "version": 3
   },
   "file_extension": ".py",
   "mimetype": "text/x-python",
   "name": "python",
   "nbconvert_exporter": "python",
   "pygments_lexer": "ipython3",
   "version": "3.6.6"
  }
 },
 "nbformat": 4,
 "nbformat_minor": 4
}
